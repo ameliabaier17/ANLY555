{
 "cells": [
  {
   "cell_type": "code",
   "execution_count": 1,
   "metadata": {},
   "outputs": [],
   "source": [
    "import random"
   ]
  },
  {
   "cell_type": "code",
   "execution_count": 23,
   "metadata": {},
   "outputs": [
    {
     "data": {
      "text/plain": [
       "590.6984669124977"
      ]
     },
     "execution_count": 23,
     "metadata": {},
     "output_type": "execute_result"
    }
   ],
   "source": [
    "def findMedian(n):\n",
    "    # generate n numbers based on input\n",
    "    numbers = [random.uniform(0,1000) for i in range(n)]\n",
    "\n",
    "    # sort numbers\n",
    "    numbers.sort()\n",
    "\n",
    "    # determine if length of numbers is dividable by 2 (even)\n",
    "    num_length = len(numbers)\n",
    "    if num_length % 2 == 0:\n",
    "        # if even, take the average of the two middle values (use index slicing)\n",
    "        middle_index = num_length//2 # must be an integer not a float so must use // instead of /\n",
    "        median = (numbers[middle_index-1]+numbers[middle_index]) / 2\n",
    "    # if len of numbers is not dividuable by 2 (odd), take the middle number\n",
    "    else:\n",
    "        # if odd, take the middle number by using the // operand so the floor of the \n",
    "        # quotient of the divisible is returned and not something like 2.5 which cannot be used as an index\n",
    "        middle_index = numbers // 2\n",
    "        median = numbers[middle_index]\n",
    "    \n",
    "    return median\n",
    "findMedian(10)"
   ]
  },
  {
   "cell_type": "markdown",
   "metadata": {},
   "source": [
    "Best case scenario:\n",
    "The best case scenario is when the input, n, is already sorted. This is because the action of sorting the input takes time and energy that would not be wasted if the input was already sorted. The first line, we generate a random list of n numbers which takes up n space. The second line, we sort that list which in the best case scenario, doesn't need to happen so no steps or space taken here (T(n) = O and S(n)=O). The third line of computing the median in this case uses constant time and space here as well since we just need to index the middle value in which the time taken to do this is not dependent on any size, n.\n",
    "\n",
    "Worst case scenario:\n",
    "The worst case scenario is when the input, n, is not sorted and is even. Similar to my reasoning above, this is because the effort to sort, index two items and take an average is higher than the effort to not sort and index one item. The first line, we generate a random list of numbers which takes up n space. The second line, we sort that list and because it's not in order this is going to take up time ( T(n) = O(nlogn) because of the sort partition methodology) and space ( S(n) = O(n) because you're creating a new sorted list with the size of n). The third line of computing the median in this case is still taking constant space and time because it's still using indexing methodology who's time is not dependent on size, n. \n"
   ]
  }
 ],
 "metadata": {
  "interpreter": {
   "hash": "d0e71dbd1f683d085d22da62e288a71fc28a2407039218eed1614b5a4aafdc96"
  },
  "kernelspec": {
   "display_name": "Python 3.10.8 ('ANLY555')",
   "language": "python",
   "name": "python3"
  },
  "language_info": {
   "codemirror_mode": {
    "name": "ipython",
    "version": 3
   },
   "file_extension": ".py",
   "mimetype": "text/x-python",
   "name": "python",
   "nbconvert_exporter": "python",
   "pygments_lexer": "ipython3",
   "version": "3.10.8"
  },
  "orig_nbformat": 4
 },
 "nbformat": 4,
 "nbformat_minor": 2
}
