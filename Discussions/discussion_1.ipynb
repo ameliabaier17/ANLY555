{
 "cells": [
  {
   "cell_type": "code",
   "execution_count": 137,
   "metadata": {},
   "outputs": [],
   "source": [
    "import math\n",
    "import random\n",
    "import itertools\n",
    "import numpy as np"
   ]
  },
  {
   "cell_type": "markdown",
   "metadata": {},
   "source": [
    "##### 1) Write a Python function computePi4(numTerms) that computes this estimate up to iteration numTerms."
   ]
  },
  {
   "cell_type": "code",
   "execution_count": 138,
   "metadata": {},
   "outputs": [
    {
     "data": {
      "text/plain": [
       "0.7604599047323508"
      ]
     },
     "execution_count": 138,
     "metadata": {},
     "output_type": "execute_result"
    }
   ],
   "source": [
    "# define signature as computePi4, and the formal parameter as numTerms \n",
    "def computePi4(numTerms):\n",
    "\n",
    "    # set expected result (pi_4) to 0 as the baseline\n",
    "    pi_4 = 0\n",
    "\n",
    "    # create a for loop that iterates/joins a tuple of positive and negative 1s and a tuple of user inputted numterms\n",
    "    # example: first tuple = (1,-1) to iterate through and second tuple (if 3 terms) = (1,3,5). These are then joined to create 1 1 and then -1 3 etc.\n",
    "    for n,d in zip(itertools.cycle([1.0, -1.0]),tuple(range(1,numTerms*2,2))):\n",
    "\n",
    "        # for each output, create a fraction (out of 1) using the second number\n",
    "        # multiply the numbers in each output by each other \n",
    "        # for example, the output 1 1 would turn into 1*1/1 = 1 and the output -1 3 would turn into -1*1/3 = -1/3\n",
    "        result = float(n)*float(1/d)\n",
    "\n",
    "        # add each value to the baseline of pi_4 so it will turn into 1 + (-1/3) + ... \n",
    "        pi_4 += result\n",
    "\n",
    "    # return pi_4 as final answer \n",
    "    return pi_4\n",
    "\n",
    "# test function created above using and actual parameter of 10 to represent number of terms\n",
    "computePi4(10)\n",
    "    "
   ]
  },
  {
   "cell_type": "code",
   "execution_count": 146,
   "metadata": {},
   "outputs": [
    {
     "data": {
      "text/plain": [
       "3.0418396189294032"
      ]
     },
     "execution_count": 146,
     "metadata": {},
     "output_type": "execute_result"
    }
   ],
   "source": [
    "# Eduardo's\n",
    "# function without comprehension or generator\n",
    "def computePi4(numTerms):\n",
    "    # initiate value of pi\n",
    "    pi = 0\n",
    "    # use a for loop based on number of terms\n",
    "    for i in range(numTerms):\n",
    "        # add or subtract from pi depending on the index\n",
    "        pi += (-1)**i / (2 * i + 1)\n",
    "    # return the value multiplied by 4\n",
    "    return pi * 4\n",
    "\n",
    "computePi4(10)"
   ]
  },
  {
   "cell_type": "code",
   "execution_count": null,
   "metadata": {},
   "outputs": [],
   "source": []
  },
  {
   "cell_type": "code",
   "execution_count": null,
   "metadata": {},
   "outputs": [],
   "source": []
  },
  {
   "cell_type": "code",
   "execution_count": 174,
   "metadata": {},
   "outputs": [
    {
     "ename": "TypeError",
     "evalue": "'list' object cannot be interpreted as an integer",
     "output_type": "error",
     "traceback": [
      "\u001b[0;31m---------------------------------------------------------------------------\u001b[0m",
      "\u001b[0;31mTypeError\u001b[0m                                 Traceback (most recent call last)",
      "Cell \u001b[0;32mIn[174], line 1\u001b[0m\n\u001b[0;32m----> 1\u001b[0m \u001b[38;5;28mlen\u001b[39m(\u001b[38;5;28;43mrange\u001b[39;49m\u001b[43m(\u001b[49m\u001b[38;5;241;43m1\u001b[39;49m\u001b[43m,\u001b[49m\u001b[43mlist_pi\u001b[49m\u001b[43m)\u001b[49m)\n",
      "\u001b[0;31mTypeError\u001b[0m: 'list' object cannot be interpreted as an integer"
     ]
    }
   ],
   "source": [
    "len(range(1,list_pi))"
   ]
  },
  {
   "cell_type": "code",
   "execution_count": 175,
   "metadata": {},
   "outputs": [
    {
     "name": "stdout",
     "output_type": "stream",
     "text": [
      "0\n",
      "1\n",
      "2\n",
      "3\n",
      "4\n",
      "5\n",
      "6\n",
      "7\n",
      "8\n",
      "9\n"
     ]
    }
   ],
   "source": [
    "list_pi = list(range(1, 10*2, 2))\n",
    "\n",
    "for i in range(len(list_pi)):\n",
    "    print(i)"
   ]
  },
  {
   "cell_type": "code",
   "execution_count": 176,
   "metadata": {},
   "outputs": [],
   "source": [
    "def computePi4(numTerms): \n",
    "    #generating a list of odd numbers \n",
    "    list_pi = list(range(1, numTerms*2, 2))\n",
    "    #need to have an empty list to add the modified odd numbers to\n",
    "    list_final = []\n",
    "    #using a for look to run through the list of odd numbers \n",
    "    for i in range(len(list_pi)):\n",
    "        if i%2 != 0:\n",
    "            list_final.append(1/(-1*list_pi[i]))\n",
    "        else: \n",
    "            list_final.append(1/(list_pi[i]))\n",
    "   #summing the list with all modified values\n",
    "    return sum(list_final)\n"
   ]
  },
  {
   "cell_type": "code",
   "execution_count": 177,
   "metadata": {},
   "outputs": [
    {
     "data": {
      "text/plain": [
       "0.7604599047323508"
      ]
     },
     "execution_count": 177,
     "metadata": {},
     "output_type": "execute_result"
    }
   ],
   "source": [
    "computePi4(10)"
   ]
  },
  {
   "cell_type": "code",
   "execution_count": 153,
   "metadata": {},
   "outputs": [
    {
     "ename": "TypeError",
     "evalue": "object of type 'int' has no len()",
     "output_type": "error",
     "traceback": [
      "\u001b[0;31m---------------------------------------------------------------------------\u001b[0m",
      "\u001b[0;31mTypeError\u001b[0m                                 Traceback (most recent call last)",
      "Cell \u001b[0;32mIn[153], line 1\u001b[0m\n\u001b[0;32m----> 1\u001b[0m \u001b[43mcomputePi4\u001b[49m\u001b[43m(\u001b[49m\u001b[38;5;241;43m10\u001b[39;49m\u001b[43m)\u001b[49m\n",
      "Cell \u001b[0;32mIn[151], line 8\u001b[0m, in \u001b[0;36mcomputePi4\u001b[0;34m(numTerms)\u001b[0m\n\u001b[1;32m      5\u001b[0m list_final \u001b[38;5;241m=\u001b[39m []\n\u001b[1;32m      6\u001b[0m \u001b[38;5;66;03m#using a for look to run through the list of odd numbers \u001b[39;00m\n\u001b[1;32m      7\u001b[0m \u001b[38;5;66;03m#for value in list_pi: \u001b[39;00m\n\u001b[0;32m----> 8\u001b[0m \u001b[38;5;28;01mfor\u001b[39;00m value \u001b[38;5;129;01min\u001b[39;00m \u001b[38;5;28;43mlen\u001b[39;49m\u001b[43m(\u001b[49m\u001b[43mnumTerms\u001b[49m\u001b[43m)\u001b[49m:\n\u001b[1;32m      9\u001b[0m     \u001b[38;5;66;03m#asking if the index of the value is even, if its odd, based on the series it should be a negative number\u001b[39;00m\n\u001b[1;32m     10\u001b[0m     \u001b[38;5;28;01mif\u001b[39;00m value\u001b[38;5;241m%\u001b[39m\u001b[38;5;241m2\u001b[39m \u001b[38;5;241m!=\u001b[39m \u001b[38;5;241m0\u001b[39m:\n\u001b[1;32m     11\u001b[0m         \u001b[38;5;66;03m#making the value the negative denominator and adding to the empty list/list we will sum later\u001b[39;00m\n\u001b[1;32m     12\u001b[0m         list_final\u001b[38;5;241m.\u001b[39mappend(\u001b[38;5;241m1\u001b[39m\u001b[38;5;241m/\u001b[39m(\u001b[38;5;241m-\u001b[39m\u001b[38;5;241m1\u001b[39m\u001b[38;5;241m*\u001b[39mvalue))\n",
      "\u001b[0;31mTypeError\u001b[0m: object of type 'int' has no len()"
     ]
    }
   ],
   "source": [
    "computePi4(10)\n",
    "\n",
    "Hi Sonali! I thought the way your approached problem 1 was very creative in terms of looking at even and odd indices. I was toggling with that methodology and also saw you could pull even and odd indices by removing your list_pi identifier all together and writing out your for loop starting with\n",
    "\n",
    "for value in len(numTerms): \n",
    "\n",
    "    if value%2 != 0:\n",
    "and continuing as is. \n",
    "Very cool - thanks for showing me this methodology to play with!"
   ]
  },
  {
   "cell_type": "code",
   "execution_count": 148,
   "metadata": {},
   "outputs": [
    {
     "data": {
      "text/plain": [
       "[0, 1, 2, 3, 4, 5, 6, 7, 8, 9]"
      ]
     },
     "execution_count": 148,
     "metadata": {},
     "output_type": "execute_result"
    }
   ],
   "source": []
  },
  {
   "cell_type": "markdown",
   "metadata": {},
   "source": [
    "##### 2) Try the above using comprehension syntax . \n"
   ]
  },
  {
   "cell_type": "code",
   "execution_count": 139,
   "metadata": {},
   "outputs": [
    {
     "data": {
      "text/plain": [
       "0.7604599047323508"
      ]
     },
     "execution_count": 139,
     "metadata": {},
     "output_type": "execute_result"
    }
   ],
   "source": [
    "# define signature as computePi4, and the formal parameter as numTerms \n",
    "def computePi4(numTerms):\n",
    "    # use list comprehension to transform earlier function so that output is a list of items used to compute pi/4\n",
    "    # return the sum of the items in that list (the sequence) as this is pi4\n",
    "    return sum([ float(n)*float(1/d) for n,d in zip(itertools.cycle([1.0, -1.0]),tuple(range(1,numTerms*2,2))) ])\n",
    "\n",
    "# test function created above using and actual parameter of 10 to represent number of terms\n",
    "computePi4(10)\n"
   ]
  },
  {
   "cell_type": "markdown",
   "metadata": {},
   "source": [
    "##### 3) A sequence is a list of objects. Using numTerms as the maximum index into a sequence, one can use computePi4 to compute a sequence to estimate pi/4, where each new number in the sequence is an estimate of pi/4 that \"more closely\" approaches to the actual value. Write a generator function in Python that generates this sequence using a yield statement (for delayed evaluation).  This is similar to #1 except you will be using a yield statement. \n",
    "\n"
   ]
  },
  {
   "cell_type": "code",
   "execution_count": 140,
   "metadata": {},
   "outputs": [
    {
     "name": "stdout",
     "output_type": "stream",
     "text": [
      "1.0\n",
      "0.6666666666666667\n",
      "0.8666666666666667\n",
      "0.7238095238095239\n",
      "0.8349206349206351\n",
      "0.7440115440115441\n",
      "0.8209346209346211\n",
      "0.7542679542679545\n",
      "0.8130914836797192\n",
      "0.7604599047323508\n"
     ]
    }
   ],
   "source": [
    "# define signature as computePi4, and the formal parameter as numTerms \n",
    "def computePi4(numTerms):\n",
    "\n",
    "    # set expected result (pi_4) to 0 as the baseline\n",
    "    pi_4 = 0\n",
    "\n",
    "    # create a for loop that iterates/joins a tuple of positive and negative 1s and a tuple of user inputted numterms\n",
    "    # example: first tuple = (1,-1) to iterate through and second tuple (if 3 terms) = (1,3,5). These are then joined to create 1 1 and then -1 3 etc.\n",
    "    for n,d in zip(itertools.cycle([1.0, -1.0]),tuple(range(1,numTerms*2,2))):\n",
    "\n",
    "        # for each output, create a fraction (out of 1) using the second number\n",
    "        # multiply the numbers in each output by each other \n",
    "        # for example, the output 1 1 would turn into 1*1/1 = 1 and the output -1 3 would turn into -1*1/3 = -1/3\n",
    "        result = float(n)*float(1/d)\n",
    "\n",
    "        # add each value to the baseline of pi_4 so it will turn into 1 + (-1/3) + ... \n",
    "        pi_4 += result\n",
    "\n",
    "        # yield pi_4 to iterate over all pi_4 computed based on numTerms\n",
    "        yield pi_4\n",
    "\n",
    "# iterate through generator created above to observe sequence created based on the actual parameter inputted into computePi4 function\n",
    "for i in computePi4(10):\n",
    "    print(i)\n",
    "    "
   ]
  },
  {
   "cell_type": "code",
   "execution_count": 144,
   "metadata": {},
   "outputs": [
    {
     "name": "stdout",
     "output_type": "stream",
     "text": [
      "0.6666666666666667\n"
     ]
    }
   ],
   "source": [
    "def computepi(numterms):\n",
    "\n",
    "    number=1\n",
    "    boole=False\n",
    "    list=[ ]\n",
    "    d=0\n",
    "    for i in range(numterms):\n",
    "\n",
    "        if boole==True:\n",
    "            list.append(-1/number)   \n",
    "        else:\n",
    "            list.append(1/number)\n",
    "        number=number+2\n",
    "        if boole==True:\n",
    "            boole=False\n",
    "        else:\n",
    "            boole=True\n",
    "    for i in range(len(list)):\n",
    "        d=d+list[i]\n",
    "    return(d)\n",
    "     \n",
    "\n",
    " \n",
    "\n",
    "\n",
    "print(computepi(2))"
   ]
  }
 ],
 "metadata": {
  "interpreter": {
   "hash": "d0e71dbd1f683d085d22da62e288a71fc28a2407039218eed1614b5a4aafdc96"
  },
  "kernelspec": {
   "display_name": "Python 3.10.8 ('ANLY555')",
   "language": "python",
   "name": "python3"
  },
  "language_info": {
   "codemirror_mode": {
    "name": "ipython",
    "version": 3
   },
   "file_extension": ".py",
   "mimetype": "text/x-python",
   "name": "python",
   "nbconvert_exporter": "python",
   "pygments_lexer": "ipython3",
   "version": "3.10.8"
  },
  "orig_nbformat": 4
 },
 "nbformat": 4,
 "nbformat_minor": 2
}
