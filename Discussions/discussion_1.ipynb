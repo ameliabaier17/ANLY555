{
 "cells": [
  {
   "cell_type": "code",
   "execution_count": 137,
   "metadata": {},
   "outputs": [],
   "source": [
    "import math\n",
    "import random\n",
    "import itertools\n",
    "import numpy as np"
   ]
  },
  {
   "cell_type": "markdown",
   "metadata": {},
   "source": [
    "##### 1) Write a Python function computePi4(numTerms) that computes this estimate up to iteration numTerms."
   ]
  },
  {
   "cell_type": "code",
   "execution_count": 138,
   "metadata": {},
   "outputs": [
    {
     "data": {
      "text/plain": [
       "0.7604599047323508"
      ]
     },
     "execution_count": 138,
     "metadata": {},
     "output_type": "execute_result"
    }
   ],
   "source": [
    "# define signature as computePi4, and the formal parameter as numTerms \n",
    "def computePi4(numTerms):\n",
    "\n",
    "    # set expected result (pi_4) to 0 as the baseline\n",
    "    pi_4 = 0\n",
    "\n",
    "    # create a for loop that iterates/joins a tuple of positive and negative 1s and a tuple of user inputted numterms\n",
    "    # example: first tuple = (1,-1) to iterate through and second tuple (if 3 terms) = (1,3,5). These are then joined to create 1 1 and then -1 3 etc.\n",
    "    for n,d in zip(itertools.cycle([1.0, -1.0]),tuple(range(1,numTerms*2,2))):\n",
    "\n",
    "        # for each output, create a fraction (out of 1) using the second number\n",
    "        # multiply the numbers in each output by each other \n",
    "        # for example, the output 1 1 would turn into 1*1/1 = 1 and the output -1 3 would turn into -1*1/3 = -1/3\n",
    "        result = float(n)*float(1/d)\n",
    "\n",
    "        # add each value to the baseline of pi_4 so it will turn into 1 + (-1/3) + ... \n",
    "        pi_4 += result\n",
    "\n",
    "    # return pi_4 as final answer \n",
    "    return pi_4\n",
    "\n",
    "# test function created above using and actual parameter of 10 to represent number of terms\n",
    "computePi4(10)\n",
    "    "
   ]
  },
  {
   "cell_type": "markdown",
   "metadata": {},
   "source": [
    "##### 2) Try the above using comprehension syntax . \n"
   ]
  },
  {
   "cell_type": "code",
   "execution_count": 139,
   "metadata": {},
   "outputs": [
    {
     "data": {
      "text/plain": [
       "0.7604599047323508"
      ]
     },
     "execution_count": 139,
     "metadata": {},
     "output_type": "execute_result"
    }
   ],
   "source": [
    "# define signature as computePi4, and the formal parameter as numTerms \n",
    "def computePi4(numTerms):\n",
    "    # use list comprehension to transform earlier function so that output is a list of items used to compute pi/4\n",
    "    # return the sum of the items in that list (the sequence) as this is pi4\n",
    "    return sum([ float(n)*float(1/d) for n,d in zip(itertools.cycle([1.0, -1.0]),tuple(range(1,numTerms*2,2))) ])\n",
    "\n",
    "# test function created above using and actual parameter of 10 to represent number of terms\n",
    "computePi4(10)\n"
   ]
  },
  {
   "cell_type": "markdown",
   "metadata": {},
   "source": [
    "##### 3) A sequence is a list of objects. Using numTerms as the maximum index into a sequence, one can use computePi4 to compute a sequence to estimate pi/4, where each new number in the sequence is an estimate of pi/4 that \"more closely\" approaches to the actual value. Write a generator function in Python that generates this sequence using a yield statement (for delayed evaluation).  This is similar to #1 except you will be using a yield statement. \n",
    "\n"
   ]
  },
  {
   "cell_type": "code",
   "execution_count": 140,
   "metadata": {},
   "outputs": [
    {
     "name": "stdout",
     "output_type": "stream",
     "text": [
      "1.0\n",
      "0.6666666666666667\n",
      "0.8666666666666667\n",
      "0.7238095238095239\n",
      "0.8349206349206351\n",
      "0.7440115440115441\n",
      "0.8209346209346211\n",
      "0.7542679542679545\n",
      "0.8130914836797192\n",
      "0.7604599047323508\n"
     ]
    }
   ],
   "source": [
    "# define signature as computePi4, and the formal parameter as numTerms \n",
    "def computePi4(numTerms):\n",
    "\n",
    "    # set expected result (pi_4) to 0 as the baseline\n",
    "    pi_4 = 0\n",
    "\n",
    "    # create a for loop that creates tuples iterating between positive and negative 1 and the appropriate odd number meant for the sequence (1,3,5 etc.)\n",
    "    # ensure the number of tuples reflects the inputted number of terms meant to compute of pi/4\n",
    "    # example: if 3 terms, 3 tuples: (1,1) (-1,3) (1,5)\n",
    "    for n,d in zip(itertools.cycle([1.0, -1.0]),tuple(range(1,numTerms*2,2))):\n",
    "\n",
    "        # for each tuple, convert the first index to a float to ensure multiplcation later\n",
    "        # for each tuple, convert the second index to a float to ensure multiplcation later\n",
    "        # for each tuple, take the second index and make that the denominator in a fraction with 1 as the numerator to follow sequence pattern of 1/1 or 1/3 etc.\n",
    "        # multiply the items in the tuple together\n",
    "        # for example, the tuple (1,1) would turn into 1*1/1 = 1 and the tuple (-1,3) would turn into -1*1/3 = -1/3\n",
    "        result = float(n)*float(1/d)\n",
    "\n",
    "        # add each value to the baseline of pi_4 so it will turn into 1 + (-1/3) + ... \n",
    "        pi_4 += result\n",
    "\n",
    "        # yield pi_4 to iterate over all pi_4 computed based on numTerms\n",
    "        yield pi_4\n",
    "\n",
    "# iterate through generator created above to observe sequence created based on the actual parameter inputted into computePi4 function\n",
    "for i in computePi4(10):\n",
    "    print(i)\n",
    "    "
   ]
  }
 ],
 "metadata": {
  "interpreter": {
   "hash": "d0e71dbd1f683d085d22da62e288a71fc28a2407039218eed1614b5a4aafdc96"
  },
  "kernelspec": {
   "display_name": "Python 3.10.8 ('ANLY555')",
   "language": "python",
   "name": "python3"
  },
  "language_info": {
   "codemirror_mode": {
    "name": "ipython",
    "version": 3
   },
   "file_extension": ".py",
   "mimetype": "text/x-python",
   "name": "python",
   "nbconvert_exporter": "python",
   "pygments_lexer": "ipython3",
   "version": "3.10.8"
  },
  "orig_nbformat": 4
 },
 "nbformat": 4,
 "nbformat_minor": 2
}
