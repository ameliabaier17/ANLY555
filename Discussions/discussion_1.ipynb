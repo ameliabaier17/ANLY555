{
 "cells": [
  {
   "cell_type": "code",
   "execution_count": 56,
   "metadata": {},
   "outputs": [],
   "source": [
    "import math\n",
    "import random\n",
    "import itertools\n",
    "import numpy as np"
   ]
  },
  {
   "cell_type": "markdown",
   "metadata": {},
   "source": [
    "##### 1) Write a Python function computePi4(numTerms) that computes this estimate up to iteration numTerms."
   ]
  },
  {
   "cell_type": "code",
   "execution_count": 57,
   "metadata": {},
   "outputs": [],
   "source": [
    "# define signature as computePi4, and the formal parameter as numTerms \n",
    "def computePi4(numTerms):\n",
    "\n",
    "    # set expected result (pi_4) to 0 as the baseline\n",
    "    pi_4 = 0\n",
    "\n",
    "    # create a for loop that creates tuples reflecting the inputted number of terms meant to compute of pi/4\n",
    "    # example: (1,1/1) (-1,1/3) (1,1/5)\n",
    "    for i,n in zip(itertools.cycle([1.0, -1.0]),range(1,numTerms*2,2)):\n",
    "\n",
    "        # for each tuple, multiple the positive or negative 1 by the appropriate term in the infinite series formula\n",
    "        # for example, the tuple (1,1/1) would turn into 1*1/1 = 1 and the tuple (-1,1/3) would turn into -1*1/3 = -1/3\n",
    "        result = float(i)*float(1/n)\n",
    "\n",
    "        # add each value to the baseline of pi_4 so it will turn into 1 + (-1/3) + ... \n",
    "        pi_4 += result\n",
    "\n",
    "    # return pi_4 as final answer \n",
    "    return pi_4\n",
    "    "
   ]
  },
  {
   "cell_type": "code",
   "execution_count": 58,
   "metadata": {},
   "outputs": [
    {
     "data": {
      "text/plain": [
       "0.7604599047323508"
      ]
     },
     "execution_count": 58,
     "metadata": {},
     "output_type": "execute_result"
    }
   ],
   "source": [
    "# test function created above using and actual parameter of 10 to represent number of terms\n",
    "computePi4(10)"
   ]
  },
  {
   "cell_type": "markdown",
   "metadata": {},
   "source": [
    "##### 2) Try the above using comprehension syntax . \n"
   ]
  },
  {
   "cell_type": "code",
   "execution_count": 59,
   "metadata": {},
   "outputs": [],
   "source": [
    "# define signature as computePi4, and the formal parameter as numTerms \n",
    "def computePi4(numTerms):\n",
    "    # use list comprehension to transform earlier function so that output is a list of items used to compute pi/4\n",
    "    pi4_list = [ float(i)*float(1/n) for i,n in zip(itertools.cycle([1.0, -1.0]),range(1,numTerms*2,2)) ]\n",
    "\n",
    "    # return the sum of the items in that list (the sequence) as this is pi4\n",
    "    return sum(pi4_list)"
   ]
  },
  {
   "cell_type": "code",
   "execution_count": 60,
   "metadata": {},
   "outputs": [
    {
     "data": {
      "text/plain": [
       "0.7604599047323508"
      ]
     },
     "execution_count": 60,
     "metadata": {},
     "output_type": "execute_result"
    }
   ],
   "source": [
    "# test function created above using and actual parameter of 10 to represent number of terms\n",
    "computePi4(10)"
   ]
  },
  {
   "cell_type": "markdown",
   "metadata": {},
   "source": [
    "##### 3) A sequence is a list of objects. Using numTerms as the maximum index into a sequence, one can use computePi4 to compute a sequence to estimate pi/4, where each new number in the sequence is an estimate of pi/4 that \"more closely\" approaches to the actual value. Write a generator function in Python that generates this sequence using a yield statement (for delayed evaluation).  This is similar to #1 except you will be using a yield statement. \n",
    "\n"
   ]
  },
  {
   "cell_type": "code",
   "execution_count": 61,
   "metadata": {},
   "outputs": [],
   "source": [
    "# define signature as computePi4, and the formal parameter as numTerms \n",
    "def computePi4(numTerms):\n",
    "\n",
    "    # set expected result (pi_4) to 0 as the baseline\n",
    "    pi_4 = 0\n",
    "\n",
    "    # create a for loop that creates tuples reflecting the infinite series of pi/4\n",
    "    # example: (1,1/1) (-1,1/3) (1,1/5)\n",
    "    for i,n in zip(itertools.cycle([1.0, -1.0]),range(1,numTerms*2,2)):\n",
    "\n",
    "        # for each tuple, multiple the positive or negative 1 by the appropriate term in the infinite series formula\n",
    "        # for example, the tuple (1,1/1) would turn into 1*1/1 = 1 and the tuple (-1,1/3) would turn into -1*1/3 = -1/3\n",
    "        result = float(i)*float(1/n)\n",
    "\n",
    "        # instead of returning the result, yield the result so that it can be iterated upon at a later time using the outputted generator\n",
    "        yield result\n",
    "    "
   ]
  },
  {
   "cell_type": "code",
   "execution_count": 62,
   "metadata": {},
   "outputs": [],
   "source": [
    "# create generator object from previous yield statement so it can be called upon at a later time\n",
    "generator_object = computePi4(10)"
   ]
  },
  {
   "cell_type": "code",
   "execution_count": 63,
   "metadata": {},
   "outputs": [
    {
     "name": "stdout",
     "output_type": "stream",
     "text": [
      "1.0\n",
      "-0.3333333333333333\n",
      "0.2\n",
      "-0.14285714285714285\n",
      "0.1111111111111111\n",
      "-0.09090909090909091\n",
      "0.07692307692307693\n",
      "-0.06666666666666667\n",
      "0.058823529411764705\n",
      "-0.05263157894736842\n"
     ]
    }
   ],
   "source": [
    "# iterate through generator created above to observe sequence created based on the actual parameter inputted into computePi4 function\n",
    "for i in generator_object:\n",
    "    print(i)"
   ]
  }
 ],
 "metadata": {
  "interpreter": {
   "hash": "d0e71dbd1f683d085d22da62e288a71fc28a2407039218eed1614b5a4aafdc96"
  },
  "kernelspec": {
   "display_name": "Python 3.10.8 ('ANLY555')",
   "language": "python",
   "name": "python3"
  },
  "language_info": {
   "codemirror_mode": {
    "name": "ipython",
    "version": 3
   },
   "file_extension": ".py",
   "mimetype": "text/x-python",
   "name": "python",
   "nbconvert_exporter": "python",
   "pygments_lexer": "ipython3",
   "version": "3.10.8"
  },
  "orig_nbformat": 4
 },
 "nbformat": 4,
 "nbformat_minor": 2
}
