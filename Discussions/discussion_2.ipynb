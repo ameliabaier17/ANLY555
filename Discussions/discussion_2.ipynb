{
 "cells": [
  {
   "cell_type": "code",
   "execution_count": 3,
   "metadata": {},
   "outputs": [],
   "source": [
    "import numpy as np # for testing purposes later "
   ]
  },
  {
   "cell_type": "code",
   "execution_count": 10,
   "metadata": {},
   "outputs": [
    {
     "name": "stdout",
     "output_type": "stream",
     "text": [
      "addition: [[ 6  8]\n",
      " [10 12]]\n",
      "inner product: [[17, 23], [39, 53]]\n",
      "outer product: [[5, 6, 7, 8], [10, 12, 14, 16], [15, 18, 21, 24], [20, 24, 28, 32]]\n",
      "<class 'list'>\n"
     ]
    }
   ],
   "source": [
    "class Matrix:\n",
    "\n",
    "    def __init__(self,matrix): # define init function to establish class variables\n",
    "        self.matrix = matrix \n",
    "\n",
    "    def __add__(self,other): # define add function to + matrices\n",
    "        if self.matrix.shape != other.shape: # check dimension equality between matrics\n",
    "            raise NameError('matrices have unequal dimensions') # if not equal, raise error\n",
    "        result = self.matrix + other # add matrices\n",
    "        return result\n",
    "\n",
    "    def __mul__(self,other):# define multiplication function to * matrices\n",
    "        if self.matrix.shape != other.shape: # check dimension equality between matrics\n",
    "            raise NameError('matrices have unequal dimensions') # if not equal, raise error\n",
    "        result = [] # create empty result list that will eventually turn into matrix\n",
    "        for i in range(len(self.matrix)): # for loop to fill empty matrix with zeros in the same shape as matrix input\n",
    "            row = []\n",
    "            for j in range(len(self.matrix)):\n",
    "                row.append(0)\n",
    "            result.append(row)\n",
    "        for i in range(len(self.matrix)): # for loop to add inner products of matrices to earlier matrix\n",
    "            for j in range(len(other)):\n",
    "                for k in range(len(other)):\n",
    "                    result[i][k] += self.matrix[i][j] * other[k][j]\n",
    "        return result\n",
    "\n",
    "\n",
    "class Vector(Matrix): \n",
    "\n",
    "    def __init__(self,matrix): # define init function to establish inherited class variables\n",
    "        super().__init__(matrix) # call on super constructor \n",
    "\n",
    "    def __pow__(self,other):# define multiplication function to * matrices\n",
    "        if self.matrix.shape != other.shape: # check dimension equality between matrics\n",
    "            raise NameError('matrices have unequal dimensions') # if not equal, raise error\n",
    "        empty_matrix = []\n",
    "        for i in range(len(self.matrix)): # for loop to create a list of outer product matrix results\n",
    "            for j in range(len(self.matrix)):\n",
    "                for k in range(len(other)):\n",
    "                    for l in range(len(other)):\n",
    "                        empty_matrix.append(self.matrix[i, j] * other[k, l])\n",
    "        col_num = self.matrix.shape[0]*2 # multiplied by 2 because outer product matrices are always 2 * input matrix shape\n",
    "        result = []\n",
    "        for i in range(col_num): # for loop to convert list above into a matrix\n",
    "            row = []\n",
    "            for j in range(col_num):\n",
    "                row.append(empty_matrix[i * col_num  + j])\n",
    "            result.append(row)\n",
    "        return result\n",
    "\n",
    "# testing\n",
    "matrix_1 = np.array([[1,2],[3,4]])\n",
    "matrix_2 = np.array([[5,6],[7,8]]) \n",
    "\n",
    "obj = Matrix(matrix_1)\n",
    "print(\"addition:\",obj.__add__(matrix_2))\n",
    "print(\"inner product:\",obj.__mul__(matrix_2))\n",
    "\n",
    "obj = Vector(matrix_1)\n",
    "print(\"outer product:\",obj.__pow__(matrix_2))\n",
    "print(type(obj.__pow__(matrix_2)))\n",
    "\n"
   ]
  },
  {
   "cell_type": "markdown",
   "metadata": {},
   "source": [
    "## Scratch work"
   ]
  },
  {
   "cell_type": "code",
   "execution_count": 4,
   "metadata": {},
   "outputs": [
    {
     "name": "stdout",
     "output_type": "stream",
     "text": [
      "[[ 6  8]\n",
      " [10 12]]\n",
      "[[17 23]\n",
      " [39 53]]\n",
      "[[ 5  6  7  8]\n",
      " [10 12 14 16]\n",
      " [15 18 21 24]\n",
      " [20 24 28 32]]\n"
     ]
    }
   ],
   "source": [
    "matrix_1 = np.array([[1,2],[3,4]])\n",
    "matrix_2 = np.array([[5,6],[7,8]])\n",
    "#print(matrix_1)\n",
    "#print(matrix_2)\n",
    "\n",
    "matrix1 = np.matrix(matrix_1)\n",
    "matrix2 = np.matrix(matrix_2)\n",
    "#print(matrix1)\n",
    "#print(matrix2)\n",
    "\n",
    "print(np.add(matrix1,matrix2))\n",
    "print(np.inner(matrix1,matrix2))\n",
    "print(np.outer(matrix1,matrix2))"
   ]
  },
  {
   "cell_type": "code",
   "execution_count": null,
   "metadata": {},
   "outputs": [],
   "source": []
  }
 ],
 "metadata": {
  "interpreter": {
   "hash": "d0e71dbd1f683d085d22da62e288a71fc28a2407039218eed1614b5a4aafdc96"
  },
  "kernelspec": {
   "display_name": "Python 3.10.8 ('ANLY555')",
   "language": "python",
   "name": "python3"
  },
  "language_info": {
   "codemirror_mode": {
    "name": "ipython",
    "version": 3
   },
   "file_extension": ".py",
   "mimetype": "text/x-python",
   "name": "python",
   "nbconvert_exporter": "python",
   "pygments_lexer": "ipython3",
   "version": "3.10.8"
  },
  "orig_nbformat": 4
 },
 "nbformat": 4,
 "nbformat_minor": 2
}
