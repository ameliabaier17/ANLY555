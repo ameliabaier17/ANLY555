{
 "cells": [
  {
   "cell_type": "markdown",
   "metadata": {},
   "source": [
    "#### Implement the SparseMatrix Class using Pseudo-code or Python code.\n"
   ]
  },
  {
   "cell_type": "code",
   "execution_count": 3,
   "metadata": {},
   "outputs": [],
   "source": [
    "class SparseMatrix:\n",
    "\n",
    "    def __init__(self, matrix):\n",
    "        # Initialize class attributes\n",
    "        self.m = len(matrix)  # Number of rows #O(1)\n",
    "        self.n = len(matrix[0])  # Number of columns #O(1)\n",
    "        self.data = {}  # Dictionary to hold non-zero elements and their indices #O(1)\n",
    "        # Traverse matrix and add non-zero elements to dictionary\n",
    "        for i in range(self.m): #O(m)\n",
    "            for j in range(self.n): #O(n)\n",
    "                if matrix[i][j] != 0: #O(1)\n",
    "                    self.data[(i,j)] = matrix[i][j] #O(1)\n",
    "\n",
    "    def get_value(self, i, j):\n",
    "        # Return value at index (i, j) if it exists, else return 0\n",
    "        # (This will be used later in the add function below)\n",
    "        if (i, j) in self.data: #O(1)\n",
    "            return self.data[(i, j)] #O(1)\n",
    "        else:\n",
    "            return 0 #O(1)\n",
    "\n",
    "    def add(self, other):\n",
    "        if self.m == other.m and self.n == other.n: #O(1)\n",
    "            # Initialize a new SparseMatrix to store the sum\n",
    "            result = SparseMatrix([[0]*self.n for _ in range(self.m)]) #O(mn)\n",
    "            # Traverse matrices and add corresponding non-zero elements, storing the result in result.data\n",
    "            for i in range(self.m): #O(m)\n",
    "                for j in range(self.n): #O(n)\n",
    "                    result.data[(i, j)] = self.get_value(i, j) + other.get_value(i, j) #O(1)\n",
    "            return result #O(1)\n",
    "        else:\n",
    "            # Raise a ValueError if the matrices have different dimensions\n",
    "            raise ValueError(\"Matrices have different dimensions\")\n",
    "\n",
    "    def to_matrix(self):\n",
    "            # Create a matrix of zeros to store the dense version of the SparseMatrix\n",
    "            matrix = [[0]*self.n for _ in range(self.m)] #O(1)\n",
    "            # Traverse the SparseMatrix and insert its values into the corresponding positions in the dense matrix\n",
    "            for i in range(self.m): #O(m)\n",
    "                for j in range(self.n): #O(n)\n",
    "                    matrix[i][j] = self.get_value(i, j) #O(1)\n",
    "\n",
    "            return matrix #O(1)\n"
   ]
  },
  {
   "cell_type": "markdown",
   "metadata": {},
   "source": [
    " #### Testing"
   ]
  },
  {
   "cell_type": "code",
   "execution_count": 4,
   "metadata": {},
   "outputs": [
    {
     "name": "stdout",
     "output_type": "stream",
     "text": [
      "[[0, 7, 7], [7, 0, 7]]\n"
     ]
    }
   ],
   "source": [
    "# Sample matrix\n",
    "matrix = [[0, 3, 3],\n",
    "          [3, 0, 3]]\n",
    "\n",
    "# Create a SparseMatrix object\n",
    "sparse_matrix = SparseMatrix(matrix)\n",
    "\n",
    "# Sample other matrix\n",
    "other_sparse_matrix = SparseMatrix([[0, 4, 4], [4, 0, 4]])\n",
    "\n",
    "# Add matrices\n",
    "result_sparse_matrix = sparse_matrix.add(other_sparse_matrix)\n",
    "\n",
    "# re-format matrix\n",
    "matrix = result_sparse_matrix.to_matrix()\n",
    "\n",
    "# print final result\n",
    "print(matrix)"
   ]
  },
  {
   "cell_type": "markdown",
   "metadata": {},
   "source": [
    "#### Derive a Step Count Function T(n) and Space Count Function S(n)\n",
    "Best-case scenario: T(n) = O(1), S(n) = O(1)\n",
    "\n",
    "The input matrix contains all zeros. In this case, the __init__ method will initialize the class attributes and the data dictionary, which takes O(1) time. The get_value, add, and to_matrix methods will all operate on empty data structures, which also take O(1) time. The space count function for the best-case scenario is also O(1), as the amount of memory used by the program does not depend on the size of the input.\n",
    "\n",
    "Worst-case scenario:T(n) = O(mn), S(n) = S(mn)\n",
    "\n",
    "The input matrix has non-zero elements in every position. In this case, the __init__ method will traverse the entire input matrix and add every non-zero element to the data dictionary, taking O(mn) time. The space count function for the worst-case scenario is also O(mn), as the data dictionary requires O(mn) memory.\n",
    "\n",
    "#### Justification\n",
    "This solution was created to add sparse matrices aka matriecs mostly made of zeros. Therefore, while there would be some need to traverse through each matrix, it would only involve travering through non-zero values instead of all matrix values come time for addition. Therefore, the values of m and n would shrink significantly compared to using all values for addition which saves time. "
   ]
  }
 ],
 "metadata": {
  "interpreter": {
   "hash": "d0e71dbd1f683d085d22da62e288a71fc28a2407039218eed1614b5a4aafdc96"
  },
  "kernelspec": {
   "display_name": "Python 3.10.8 ('ANLY555')",
   "language": "python",
   "name": "python3"
  },
  "language_info": {
   "codemirror_mode": {
    "name": "ipython",
    "version": 3
   },
   "file_extension": ".py",
   "mimetype": "text/x-python",
   "name": "python",
   "nbconvert_exporter": "python",
   "pygments_lexer": "ipython3",
   "version": "3.10.8"
  },
  "orig_nbformat": 4
 },
 "nbformat": 4,
 "nbformat_minor": 2
}
